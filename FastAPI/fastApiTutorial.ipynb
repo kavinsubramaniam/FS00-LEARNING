{
 "cells": [
  {
   "cell_type": "markdown",
   "id": "672e91fb",
   "metadata": {},
   "source": [
    "# FASTAPI Tutorial"
   ]
  },
  {
   "cell_type": "markdown",
   "id": "57109e31",
   "metadata": {},
   "source": [
    "Fastapi is a python frame work that actually increases the phase of api development, thanks for the asynchronous execution of request using the UVICORN etc.\n",
    "\n",
    "some of the advantages over other python frameworks are\n",
    "\n",
    "- **ASGI**, or the Asynchronous Server Gateway Interface, is a Python standard that defines how web servers communicate with asynchronous Python web frameworks and applications. As the successor to the WSGI (Web Server Gateway Interface), ASGI enables non-blocking, real-time communication features like WebSockets and server-sent events, which were not supported by the synchronous WSGI standard. It provides a standardized interface for asynchronous servers and applications, allowing for high-throughput, real-time web applications with better performance and scalability in Python.\n",
    "\n",
    "- **Typing Hinting** using pydantic library. This increases the productivity of the programmers while coding. Typing Hinting is nothing but showing recommentions on methods and properties based on the data-type\n",
    "\n",
    "- **Auto Docs**  using swagger UI and redoc. This helps to document the api easily and gives a greate UI for debugging as well!\n",
    "\n",
    "###  About UVICORN\n",
    "Steps inside Uvicorn:\n",
    "1. Create config → builds settings (host, port, app reference, logging).\n",
    "2. Initialize Server → sets up sockets, protocols, HTTP parsing (via h11 or httptools), and lifespan handlers.\n",
    "3. Bind to host/port → since you passed 0.0.0.0:8000, it opens a listening socket for connections on all interfaces.\n",
    "4. Start asyncio tasks → schedules the ASGI app (app) inside the loop, handling HTTP requests asynchronously.\n",
    "5. Event loop keeps running → but because of nest_asyncio, the notebook doesn’t crash — it keeps processing notebook commands too.\n",
    "\n",
    "### About Pydantic\n",
    "All the type casting, data validation, type hinting is all done by pydantic library"
   ]
  },
  {
   "cell_type": "markdown",
   "id": "b011ce1b",
   "metadata": {},
   "source": [
    "### How to run \n",
    "\n",
    "There are severals ways to run the fastAPI app.\n",
    "1. Using UVICORN\n",
    "    - uvicorn \\<filename\\>:\\<fastapi Instance\\> --reload -> on cmd\n",
    "    - uvicorn.run(\\<fastapi Instance\\>, host=\"0.0.0.0\", port=8000) -> on code\n",
    "2. Using FastAPI CMD\n",
    "    - fastapi dev \\<filename\\> -> on cmd to run on development mode\n",
    "    - fastapi run \\<filename\\> -> on cmd to run on production mode"
   ]
  },
  {
   "cell_type": "markdown",
   "id": "67808756",
   "metadata": {},
   "source": [
    "## Basics"
   ]
  },
  {
   "cell_type": "code",
   "execution_count": 30,
   "id": "1143c149",
   "metadata": {},
   "outputs": [],
   "source": [
    "from fastapi import FastAPI"
   ]
  },
  {
   "cell_type": "code",
   "execution_count": 31,
   "id": "f7ed06dd",
   "metadata": {},
   "outputs": [],
   "source": [
    "app = FastAPI() # Here the app is the instance of the FASTAPI"
   ]
  },
  {
   "cell_type": "code",
   "execution_count": 32,
   "id": "bd6998e0",
   "metadata": {},
   "outputs": [],
   "source": [
    "@app.get(\"/\") #  Here @ is a decorator used to  decorate the function below \n",
    "def base_route():\n",
    "    return \"Welcome to the base page!\"\n",
    "\n",
    "# Here the get is the operation, '/' is the path or route or endpoint, and the function is called path operation function"
   ]
  },
  {
   "cell_type": "markdown",
   "id": "7923781a",
   "metadata": {},
   "source": [
    "#### Dynamic Route or Path Parameters\n",
    "**Note**: The dynamic route must always present after the static routes. This ensures that the dynamic route won't recognize the static route and process the unexpected data. FastAPI always matches the path from top to bottom so placing the dynamic route after the static route will result in the expected outcome"
   ]
  },
  {
   "cell_type": "code",
   "execution_count": 33,
   "id": "1f63500a",
   "metadata": {},
   "outputs": [],
   "source": [
    "@app.get(\"/blog/{id}\")\n",
    "def get_blog(id: int): # If the id is not integer fastapi will automatically throw an error a as response\n",
    "    return {\"data\": f\"data of blog {id}\"}"
   ]
  },
  {
   "cell_type": "markdown",
   "id": "cc8bcfe9",
   "metadata": {},
   "source": [
    "#### Query and optional Parameter"
   ]
  },
  {
   "cell_type": "code",
   "execution_count": 34,
   "id": "8b83eba2",
   "metadata": {},
   "outputs": [],
   "source": [
    "@app.get(\"/blog\")\n",
    "def get_blog_with_limit(limit: int): # Here limit is a query parameter which is specified in the URL using '?' and '&'\n",
    "    return {\"Query Param\":limit}\n",
    "\n",
    "@app.get(\"/blog/optional\")\n",
    "def get_blog_with_optional_param(param: str | None=None):  # Here '|' is used to mention that it is optional \n",
    "    return {\"Optional Param\": param}\n"
   ]
  },
  {
   "cell_type": "markdown",
   "id": "98e4ca3d",
   "metadata": {},
   "source": [
    "#### Request Body"
   ]
  },
  {
   "cell_type": "code",
   "execution_count": 35,
   "id": "2315b14e",
   "metadata": {},
   "outputs": [],
   "source": [
    "from pydantic import BaseModel\n",
    "\n",
    "class RequestBody(BaseModel):\n",
    "    param1: int\n",
    "    param2: str\n",
    "    param3: bool\n",
    "\n",
    "@app.post(\"/blog/create\")\n",
    "def creat_blog(request: RequestBody):\n",
    "    return {\"Data\": request}\n"
   ]
  },
  {
   "cell_type": "markdown",
   "id": "89522e76",
   "metadata": {},
   "source": [
    "#### Running FastAPI inside Jupyter Notebook\n",
    "\n",
    "To run fastapi inside jupyter notebook we need to use nest_asyncio.\n",
    "- uvicorn.run() internally calls asyncio.run().\n",
    "- But Jupyter/IPython already runs an event loop for you.\n",
    "- Python forbids nesting asyncio.run() inside an already running loop, so you get:\n",
    "    - **RuntimeError: asyncio.run() cannot be called from a running event loop**\n",
    "\n",
    "1. Jupyter already has an event loop\n",
    "- Jupyter (IPython kernel) runs an asyncio event loop in the background to manage code execution, message passing, widgets, etc.\n",
    "Normally, calling asyncio.run() inside an already running loop raises:\n",
    "RuntimeError: asyncio.run() cannot be called from a running event loop\n",
    "\n",
    "2. nest_asyncio.apply()\n",
    "-  This function patches the current event loop so that it can be nested.\n",
    "Normally, asyncio forbids re-entering the same loop (asyncio.run always expects a fresh loop).\n",
    "After patching, the existing Jupyter event loop can re-enter itself — allowing libraries like Uvicorn, aiohttp, etc. to run without crashing.\n",
    "Think of it as: “let me allow recursion on the event loop.”"
   ]
  },
  {
   "cell_type": "code",
   "execution_count": 36,
   "id": "393cd0f5",
   "metadata": {},
   "outputs": [
    {
     "name": "stderr",
     "output_type": "stream",
     "text": [
      "INFO:     Started server process [7084]\n",
      "INFO:     Waiting for application startup.\n",
      "INFO:     Application startup complete.\n",
      "INFO:     Uvicorn running on http://0.0.0.0:8000 (Press CTRL+C to quit)\n"
     ]
    },
    {
     "name": "stdout",
     "output_type": "stream",
     "text": [
      "INFO:     127.0.0.1:54310 - \"GET /blog/optional?param=12 HTTP/1.1\" 422 Unprocessable Entity\n",
      "INFO:     127.0.0.1:54310 - \"GET /blog/docs HTTP/1.1\" 422 Unprocessable Entity\n",
      "INFO:     127.0.0.1:54310 - \"GET /docs HTTP/1.1\" 200 OK\n",
      "INFO:     127.0.0.1:54310 - \"GET /openapi.json HTTP/1.1\" 200 OK\n",
      "INFO:     127.0.0.1:61296 - \"POST /blog/create HTTP/1.1\" 200 OK\n",
      "INFO:     127.0.0.1:61296 - \"POST /blog/create HTTP/1.1\" 200 OK\n"
     ]
    },
    {
     "name": "stderr",
     "output_type": "stream",
     "text": [
      "INFO:     Shutting down\n",
      "INFO:     Waiting for application shutdown.\n",
      "INFO:     Application shutdown complete.\n",
      "INFO:     Finished server process [7084]\n"
     ]
    }
   ],
   "source": [
    "import nest_asyncio\n",
    "import uvicorn\n",
    "\n",
    "nest_asyncio.apply()\n",
    "uvicorn.run(app, host=\"0.0.0.0\", port=8000)\n"
   ]
  }
 ],
 "metadata": {
  "kernelspec": {
   "display_name": ".venv",
   "language": "python",
   "name": "python3"
  },
  "language_info": {
   "codemirror_mode": {
    "name": "ipython",
    "version": 3
   },
   "file_extension": ".py",
   "mimetype": "text/x-python",
   "name": "python",
   "nbconvert_exporter": "python",
   "pygments_lexer": "ipython3",
   "version": "3.12.10"
  }
 },
 "nbformat": 4,
 "nbformat_minor": 5
}
