{
 "cells": [
  {
   "cell_type": "markdown",
   "id": "672e91fb",
   "metadata": {},
   "source": [
    "# FASTAPI Tutorial"
   ]
  },
  {
   "cell_type": "markdown",
   "id": "57109e31",
   "metadata": {},
   "source": [
    "Fastapi is a python frame work that actually increases the phase of api development, thanks for the asynchronous execution of request using the UVICORN etc.\n",
    "\n",
    "some of the advantages over other python frameworks are\n",
    "\n",
    "- **ASGI**, or the Asynchronous Server Gateway Interface, is a Python standard that defines how web servers communicate with asynchronous Python web frameworks and applications. As the successor to the WSGI (Web Server Gateway Interface), ASGI enables non-blocking, real-time communication features like WebSockets and server-sent events, which were not supported by the synchronous WSGI standard. It provides a standardized interface for asynchronous servers and applications, allowing for high-throughput, real-time web applications with better performance and scalability in Python.\n",
    "\n",
    "- **Typing Hinting** using pydantic library. This increases the productivity of the programmers while coding. Typing Hinting is nothing but showing recommentions on methods and properties based on the data-type\n",
    "\n",
    "- **Auto Docs**  using swagger UI and redoc. This helps to document the api easily and gives a greate UI for debugging as well!\n",
    "\n",
    "###  About UVICORN\n",
    "Steps inside Uvicorn:\n",
    "1. Create config → builds settings (host, port, app reference, logging).\n",
    "2. Initialize Server → sets up sockets, protocols, HTTP parsing (via h11 or httptools), and lifespan handlers.\n",
    "3. Bind to host/port → since you passed 0.0.0.0:8000, it opens a listening socket for connections on all interfaces.\n",
    "4. Start asyncio tasks → schedules the ASGI app (app) inside the loop, handling HTTP requests asynchronously.\n",
    "5. Event loop keeps running → but because of nest_asyncio, the notebook doesn’t crash — it keeps processing notebook commands too.\n",
    "\n",
    "### About Pydantic\n",
    "All the type casting, data validation, type hinting is all done by pydantic library"
   ]
  },
  {
   "cell_type": "markdown",
   "id": "b011ce1b",
   "metadata": {},
   "source": [
    "### How to run \n",
    "\n",
    "There are severals ways to run the fastAPI app.\n",
    "1. Using UVICORN\n",
    "    - uvicorn \\<filename\\>:\\<fastapi Instance\\> --reload -> on cmd\n",
    "    - uvicorn.run(\\<fastapi Instance\\>, host=\"0.0.0.0\", port=8000) -> on code\n",
    "2. Using FastAPI CMD\n",
    "    - fastapi dev \\<filename\\> -> on cmd to run on development mode\n",
    "    - fastapi run \\<filename\\> -> on cmd to run on production mode"
   ]
  },
  {
   "cell_type": "markdown",
   "id": "67808756",
   "metadata": {},
   "source": [
    "## Basics"
   ]
  },
  {
   "cell_type": "code",
   "execution_count": 174,
   "id": "1143c149",
   "metadata": {},
   "outputs": [],
   "source": [
    "from fastapi import FastAPI"
   ]
  },
  {
   "cell_type": "code",
   "execution_count": 175,
   "id": "f7ed06dd",
   "metadata": {},
   "outputs": [],
   "source": [
    "app = FastAPI() # Here the app is the instance of the FASTAPI"
   ]
  },
  {
   "cell_type": "code",
   "execution_count": 176,
   "id": "bd6998e0",
   "metadata": {},
   "outputs": [],
   "source": [
    "@app.get(\"/\") #  Here @ is a decorator used to  decorate the function below \n",
    "def base_route():\n",
    "    return \"Welcome to the base page!\"\n",
    "\n",
    "# Here the get is the operation, '/' is the path or route or endpoint, and the function is called path operation function"
   ]
  },
  {
   "cell_type": "markdown",
   "id": "7923781a",
   "metadata": {},
   "source": [
    "#### Dynamic Route or Path Parameters\n",
    "**Note**: The dynamic route must always present after the static routes. This ensures that the dynamic route won't recognize the static route and process the unexpected data. FastAPI always matches the path from top to bottom so placing the dynamic route after the static route will result in the expected outcome"
   ]
  },
  {
   "cell_type": "code",
   "execution_count": 177,
   "id": "1f63500a",
   "metadata": {},
   "outputs": [],
   "source": [
    "@app.get(\"/path-param{id}\")\n",
    "def dynamic_param(id: int): # If the id is not integer fastapi will automatically throw an error a as response\n",
    "    return {\"data\": f\"data of blog {id}\"}"
   ]
  },
  {
   "cell_type": "markdown",
   "id": "cc8bcfe9",
   "metadata": {},
   "source": [
    "#### Query and optional Parameter"
   ]
  },
  {
   "cell_type": "code",
   "execution_count": 178,
   "id": "8b83eba2",
   "metadata": {},
   "outputs": [],
   "source": [
    "@app.get(\"/query-param\")\n",
    "def query_param(limit: int): # Here limit is a query parameter which is specified in the URL using '?' and '&'\n",
    "    return {\"Query Param\":limit}\n",
    "\n",
    "@app.get(\"/optional-param\")\n",
    "def optional_param(param: str | None=None):  # Here '|' is used to mention that it is optional \n",
    "    return {\"Optional Param\": param}\n"
   ]
  },
  {
   "cell_type": "markdown",
   "id": "98e4ca3d",
   "metadata": {},
   "source": [
    "#### Request Body"
   ]
  },
  {
   "cell_type": "code",
   "execution_count": 179,
   "id": "2315b14e",
   "metadata": {},
   "outputs": [],
   "source": [
    "from pydantic import BaseModel\n",
    "\n",
    "class RequestBody(BaseModel):\n",
    "    param1: int\n",
    "    param2: str\n",
    "    param3: bool\n",
    "\n",
    "@app.post(\"/request-body\")\n",
    "def request_body(request: RequestBody):\n",
    "    return {\"Data\": request}\n"
   ]
  },
  {
   "cell_type": "markdown",
   "id": "3e62d3e2",
   "metadata": {},
   "source": [
    "#### Creating and linking SQL model to endpoints using SQLAlchemy"
   ]
  },
  {
   "cell_type": "code",
   "execution_count": 180,
   "id": "0b584376",
   "metadata": {},
   "outputs": [],
   "source": [
    "from sqlalchemy import create_engine, Column, String, Integer, Float\n",
    "from sqlalchemy.orm import declarative_base, sessionmaker"
   ]
  },
  {
   "cell_type": "code",
   "execution_count": 181,
   "id": "8c07c269",
   "metadata": {},
   "outputs": [],
   "source": [
    "DATABASE_URL = \"sqlite:///fastApiDatabase.db\"\n",
    "engine = create_engine(DATABASE_URL, echo=True)\n",
    "Base = declarative_base()"
   ]
  },
  {
   "cell_type": "code",
   "execution_count": 182,
   "id": "13f7b500",
   "metadata": {},
   "outputs": [
    {
     "name": "stdout",
     "output_type": "stream",
     "text": [
      "2025-09-21 23:50:56,129 INFO sqlalchemy.engine.Engine BEGIN (implicit)\n",
      "2025-09-21 23:50:56,130 INFO sqlalchemy.engine.Engine PRAGMA main.table_info(\"blog\")\n",
      "2025-09-21 23:50:56,130 INFO sqlalchemy.engine.Engine [raw sql] ()\n",
      "2025-09-21 23:50:56,131 INFO sqlalchemy.engine.Engine COMMIT\n"
     ]
    }
   ],
   "source": [
    "class Blog(Base):\n",
    "    __tablename__ = \"blog\"\n",
    "    id: int = Column(Integer, primary_key=True)\n",
    "    title: str = Column(String, nullable=False)\n",
    "    description: str = Column(String, nullable=False)\n",
    "    price: float = Column(Float, nullable=False)\n",
    "    author: str = Column(String, nullable=False)\n",
    "\n",
    "Base.metadata.create_all(bind=engine)"
   ]
  },
  {
   "cell_type": "code",
   "execution_count": 183,
   "id": "6e1ed91f",
   "metadata": {},
   "outputs": [],
   "source": [
    "from fastapi import Depends\n",
    "from sqlalchemy.orm import Session\n",
    "\n",
    "def get_db():\n",
    "    Session = sessionmaker(engine)\n",
    "    db = Session()\n",
    "    try:\n",
    "        yield db\n",
    "    finally:\n",
    "        db.close()\n",
    "\n",
    "@app.get(\"/blogs/all\")\n",
    "def get_all_blogs(db: Session = Depends(get_db)):\n",
    "    return db.query(Blog).all()"
   ]
  },
  {
   "cell_type": "markdown",
   "id": "12354b7e",
   "metadata": {},
   "source": [
    "#### CRUD Operations using SQLAlchemy ORM"
   ]
  },
  {
   "cell_type": "code",
   "execution_count": 184,
   "id": "d5cdf337",
   "metadata": {},
   "outputs": [],
   "source": [
    "from pydantic import BaseModel\n",
    "\n",
    "class BlogSchema(BaseModel):\n",
    "    title: str\n",
    "    description: str\n",
    "    price: float\n",
    "    author: str\n",
    "\n",
    "@app.get(\"/blogs/{id}\")\n",
    "def get_blog_by_id(id: int, db: Session = Depends(get_db)):\n",
    "    return db.query(Blog).filter(Blog.id == id).first()\n",
    "\n",
    "@app.post(\"/blog/create\")\n",
    "def create_blog(blog: BlogSchema, db: Session = Depends(get_db)):\n",
    "    blog = Blog(title=blog.title, description=blog.description, price=blog.price, author=blog.author)\n",
    "    db.add(blog)\n",
    "    db.commit()\n",
    "    db.refresh(blog)\n",
    "    return blog\n",
    "\n",
    "@app.put(\"/blog/update/{id}\")\n",
    "def update_blog(id:int, blog: BlogSchema, db: Session = Depends(get_db)):\n",
    "    db.query(Blog).filter(Blog.id == id).update({\n",
    "        \"title\":blog.title, \n",
    "        \"description\":blog.description, \n",
    "        \"price\":blog.price, \n",
    "        \"author\":blog.author\n",
    "    })\n",
    "    db.commit()\n",
    "    return blog\n",
    "\n",
    "@app.delete(\"/blog/delete/{id}\")\n",
    "def delete_blog(id: int, db: Session = Depends(get_db)):\n",
    "    try:\n",
    "        db.query(Blog).filter(Blog.id == id).delete()\n",
    "        db.commit()\n",
    "        return {\"status\": f\"Successfully deleted blog {id}\"}\n",
    "    except():\n",
    "        return {\"status\": f\"Deletion of blog {id} Failed!\"}"
   ]
  },
  {
   "cell_type": "markdown",
   "id": "bef70aa2",
   "metadata": {},
   "source": [
    "#### Exception and Response Code"
   ]
  },
  {
   "cell_type": "code",
   "execution_count": 185,
   "id": "b220bdf7",
   "metadata": {},
   "outputs": [],
   "source": [
    "from fastapi import status, HTTPException, Response\n",
    "\n",
    "# Using the decorator\n",
    "@app.get(\"/exception\", status_code=status.HTTP_401_UNAUTHORIZED) \n",
    "def exception():\n",
    "    return {\"data\": \"Exception raised!\"}\n",
    "\n",
    "# Using the HTTPException\n",
    "@app.get(\"/manual-exception\", status_code=status.HTTP_401_UNAUTHORIZED)\n",
    "def manual_exception():\n",
    "    try:\n",
    "        raise Exception()\n",
    "    except:\n",
    "        raise HTTPException(status_code=status.HTTP_418_IM_A_TEAPOT, detail=\"Manual Exception Raised!\")\n",
    "    return {\"data\": \"This will not be executed\"}\n",
    "\n",
    "# Using the Response Class\n",
    "@app.get(\"/added-exception\")\n",
    "def added_exception(response: Response):\n",
    "    try:\n",
    "        raise Exception()\n",
    "    except:\n",
    "        response.status_code = status.HTTP_418_IM_A_TEAPOT\n",
    "    return {\"data\":\"nothing\"}"
   ]
  },
  {
   "cell_type": "markdown",
   "id": "f6d4c55c",
   "metadata": {},
   "source": [
    "#### Response Model"
   ]
  },
  {
   "cell_type": "code",
   "execution_count": 186,
   "id": "de4a98e8",
   "metadata": {},
   "outputs": [],
   "source": [
    "from pydantic import BaseModel\n",
    "from typing import List\n",
    "\n",
    "class ResponseModel(BaseModel):\n",
    "    title: str\n",
    "    author: str\n",
    "\n",
    "    class Config:\n",
    "        from_attributes = True\n",
    "\n",
    "@app.get(\"/blog/response-model/all\", response_model=List[ResponseModel])\n",
    "def get_all_blogs_using_response_model(db: Session = Depends(get_db)):\n",
    "    blogs = db.query(Blog).all()\n",
    "    return blogs\n",
    "\n",
    "@app.get(\"/blog/response-model/{id}\", response_model=ResponseModel)\n",
    "def get_blog_using_response_model(id: int, db: Session = Depends(get_db)):\n",
    "    blog = db.query(Blog).filter(Blog.id == id).first()\n",
    "    return blog"
   ]
  },
  {
   "cell_type": "markdown",
   "id": "89522e76",
   "metadata": {},
   "source": [
    "#### Running FastAPI inside Jupyter Notebook\n",
    "\n",
    "To run fastapi inside jupyter notebook we need to use nest_asyncio.\n",
    "- uvicorn.run() internally calls asyncio.run().\n",
    "- But Jupyter/IPython already runs an event loop for you.\n",
    "- Python forbids nesting asyncio.run() inside an already running loop, so you get:\n",
    "    - **RuntimeError: asyncio.run() cannot be called from a running event loop**\n",
    "\n",
    "1. Jupyter already has an event loop\n",
    "- Jupyter (IPython kernel) runs an asyncio event loop in the background to manage code execution, message passing, widgets, etc.\n",
    "Normally, calling asyncio.run() inside an already running loop raises:\n",
    "RuntimeError: asyncio.run() cannot be called from a running event loop\n",
    "\n",
    "2. nest_asyncio.apply()\n",
    "-  This function patches the current event loop so that it can be nested.\n",
    "Normally, asyncio forbids re-entering the same loop (asyncio.run always expects a fresh loop).\n",
    "After patching, the existing Jupyter event loop can re-enter itself — allowing libraries like Uvicorn, aiohttp, etc. to run without crashing.\n",
    "Think of it as: “let me allow recursion on the event loop.”"
   ]
  },
  {
   "cell_type": "code",
   "execution_count": null,
   "id": "393cd0f5",
   "metadata": {},
   "outputs": [
    {
     "name": "stderr",
     "output_type": "stream",
     "text": [
      "INFO:     Started server process [7084]\n",
      "INFO:     Waiting for application startup.\n",
      "INFO:     Application startup complete.\n",
      "INFO:     Uvicorn running on http://0.0.0.0:8000 (Press CTRL+C to quit)\n"
     ]
    },
    {
     "name": "stdout",
     "output_type": "stream",
     "text": [
      "INFO:     127.0.0.1:53237 - \"GET /docs HTTP/1.1\" 200 OK\n",
      "INFO:     127.0.0.1:53237 - \"GET /openapi.json HTTP/1.1\" 200 OK\n",
      "2025-09-21 23:51:09,479 INFO sqlalchemy.engine.Engine BEGIN (implicit)\n",
      "2025-09-21 23:51:09,491 INFO sqlalchemy.engine.Engine SELECT blog.id AS blog_id, blog.title AS blog_title, blog.description AS blog_description, blog.price AS blog_price, blog.author AS blog_author \n",
      "FROM blog\n",
      "2025-09-21 23:51:09,494 INFO sqlalchemy.engine.Engine [generated in 0.00268s] ()\n",
      "2025-09-21 23:51:09,501 INFO sqlalchemy.engine.Engine ROLLBACK\n",
      "INFO:     127.0.0.1:51215 - \"GET /blog/response-model/all HTTP/1.1\" 200 OK\n",
      "2025-09-21 23:51:21,326 INFO sqlalchemy.engine.Engine BEGIN (implicit)\n",
      "2025-09-21 23:51:21,329 INFO sqlalchemy.engine.Engine SELECT blog.id AS blog_id, blog.title AS blog_title, blog.description AS blog_description, blog.price AS blog_price, blog.author AS blog_author \n",
      "FROM blog \n",
      "WHERE blog.id = ?\n",
      " LIMIT ? OFFSET ?\n",
      "2025-09-21 23:51:21,329 INFO sqlalchemy.engine.Engine [generated in 0.00066s] (1, 1, 0)\n",
      "2025-09-21 23:51:21,333 INFO sqlalchemy.engine.Engine ROLLBACK\n",
      "INFO:     127.0.0.1:64010 - \"GET /blog/response-model/1 HTTP/1.1\" 200 OK\n"
     ]
    }
   ],
   "source": [
    "import nest_asyncio\n",
    "import uvicorn\n",
    "\n",
    "nest_asyncio.apply()\n",
    "uvicorn.run(app, host=\"0.0.0.0\", port=8000)\n"
   ]
  }
 ],
 "metadata": {
  "kernelspec": {
   "display_name": ".venv",
   "language": "python",
   "name": "python3"
  },
  "language_info": {
   "codemirror_mode": {
    "name": "ipython",
    "version": 3
   },
   "file_extension": ".py",
   "mimetype": "text/x-python",
   "name": "python",
   "nbconvert_exporter": "python",
   "pygments_lexer": "ipython3",
   "version": "3.12.10"
  }
 },
 "nbformat": 4,
 "nbformat_minor": 5
}
