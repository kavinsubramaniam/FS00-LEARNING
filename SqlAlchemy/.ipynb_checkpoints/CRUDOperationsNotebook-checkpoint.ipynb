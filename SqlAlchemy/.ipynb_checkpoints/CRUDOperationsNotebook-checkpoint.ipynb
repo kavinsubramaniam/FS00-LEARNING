{
 "cells": [
  {
   "cell_type": "code",
   "execution_count": 3,
   "id": "15cf5670-b6b8-4a5b-b353-f074714b907e",
   "metadata": {},
   "outputs": [],
   "source": [
    "from sqlalchemy import Column, String, Integer, ForeignKey, create_engine\n",
    "from sqlalchemy.orm import DeclarativeBase, sessionmaker, declarative_base, relationship"
   ]
  },
  {
   "cell_type": "code",
   "execution_count": null,
   "id": "47befd81-02d1-4c16-beef-dfd5de49562b",
   "metadata": {},
   "outputs": [],
   "source": [
    "DATABASE_URL = "
   ]
  }
 ],
 "metadata": {
  "kernelspec": {
   "display_name": "Python 3 (ipykernel)",
   "language": "python",
   "name": "python3"
  },
  "language_info": {
   "codemirror_mode": {
    "name": "ipython",
    "version": 3
   },
   "file_extension": ".py",
   "mimetype": "text/x-python",
   "name": "python",
   "nbconvert_exporter": "python",
   "pygments_lexer": "ipython3",
   "version": "3.12.10"
  }
 },
 "nbformat": 4,
 "nbformat_minor": 5
}
