{
 "cells": [
  {
   "cell_type": "markdown",
   "id": "9589b610",
   "metadata": {},
   "source": [
    "### Simple Intorduction\n",
    "- SqlAlchemy is a python based ORM(Object Relationship Mapper) Tool that makes us intract with the database using python instead of actual SQL queries\n",
    "- It consists of **TWO main parts** \n",
    "    - SqlAlchemy Core (Low Level)\n",
    "    - SqlAlchemy ORM (High Level)"
   ]
  },
  {
   "cell_type": "markdown",
   "id": "84a939e3",
   "metadata": {},
   "source": [
    "# SqlAlchemy Core"
   ]
  },
  {
   "cell_type": "markdown",
   "id": "a04c12e6-048d-4b67-8638-dabbaff30c72",
   "metadata": {},
   "source": [
    "### Engine and Connection Creation"
   ]
  },
  {
   "cell_type": "code",
   "execution_count": 3,
   "id": "11c93c10",
   "metadata": {},
   "outputs": [],
   "source": [
    "from sqlalchemy import create_engine, text"
   ]
  },
  {
   "cell_type": "code",
   "execution_count": 4,
   "id": "ea74c76c-1cdf-40d1-8c41-b6257a160d77",
   "metadata": {},
   "outputs": [],
   "source": [
    "DATABASE_URL = \"sqlite:///CRUDOperations.db\"\n",
    "engine = create_engine(DATABASE_URL, echo=True) # We can also create connection pools to efficiently make multiply connections\n",
    "conn = engine.connect()"
   ]
  },
  {
   "cell_type": "markdown",
   "id": "21092bcd-66e7-4f80-bf9c-3864102f5d26",
   "metadata": {},
   "source": [
    "### Basic table creation and deletion query"
   ]
  },
  {
   "cell_type": "markdown",
   "id": "50ced175-9c4e-48d7-8e58-cc47f4d0b4c5",
   "metadata": {},
   "source": [
    "**note**: Here in DDL(CREATE, ALTER, DROP) commands there is no need to commit, and rollback will have no effect"
   ]
  },
  {
   "cell_type": "code",
   "execution_count": 5,
   "id": "48e63079-f34d-47a2-9f64-008612ec2570",
   "metadata": {
    "scrolled": true
   },
   "outputs": [
    {
     "name": "stdout",
     "output_type": "stream",
     "text": [
      "2025-09-21 02:26:29,026 INFO sqlalchemy.engine.Engine BEGIN (implicit)\n",
      "2025-09-21 02:26:29,027 INFO sqlalchemy.engine.Engine CREATE TABLE IF NOT EXISTS person (id int, name str, age int)\n",
      "2025-09-21 02:26:29,027 INFO sqlalchemy.engine.Engine [generated in 0.00107s] ()\n"
     ]
    },
    {
     "data": {
      "text/plain": [
       "<sqlalchemy.engine.cursor.CursorResult at 0x1c4bda9e040>"
      ]
     },
     "execution_count": 5,
     "metadata": {},
     "output_type": "execute_result"
    }
   ],
   "source": [
    "conn.execute(text(\"CREATE TABLE IF NOT EXISTS person (id int, name str, age int)\"))"
   ]
  },
  {
   "cell_type": "code",
   "execution_count": 6,
   "id": "3083ea7c-39c3-4e58-8152-db5699e8af8f",
   "metadata": {},
   "outputs": [
    {
     "name": "stdout",
     "output_type": "stream",
     "text": [
      "2025-09-21 02:26:29,038 INFO sqlalchemy.engine.Engine DROP TABLE person\n",
      "2025-09-21 02:26:29,038 INFO sqlalchemy.engine.Engine [generated in 0.00106s] ()\n"
     ]
    },
    {
     "data": {
      "text/plain": [
       "<sqlalchemy.engine.cursor.CursorResult at 0x1c4bda9e3c0>"
      ]
     },
     "execution_count": 6,
     "metadata": {},
     "output_type": "execute_result"
    }
   ],
   "source": [
    "conn.execute(text(\"DROP TABLE person\"))"
   ]
  },
  {
   "cell_type": "markdown",
   "id": "5a92786c-6634-4ba0-b08f-7d2416013db6",
   "metadata": {},
   "source": [
    "### Working on actual SQLAlchemy Core"
   ]
  },
  {
   "cell_type": "code",
   "execution_count": 7,
   "id": "e319df92-93c8-49f2-89a5-d681f1b0ff73",
   "metadata": {},
   "outputs": [],
   "source": [
    "from sqlalchemy import create_engine, Table, Column, Integer, String, MetaData"
   ]
  },
  {
   "cell_type": "code",
   "execution_count": 8,
   "id": "cad75096-3c64-4d1c-968a-5adc8f7d5616",
   "metadata": {},
   "outputs": [],
   "source": [
    "engine = create_engine(DATABASE_URL, echo=True)\n",
    "meta = MetaData() # MetaData is basically a registry / container object that holds information about your database schema.\n",
    "conn = engine.connect()"
   ]
  },
  {
   "cell_type": "markdown",
   "id": "6615acda-233b-47aa-96da-c37c3f39076d",
   "metadata": {},
   "source": [
    "#### Table Creation"
   ]
  },
  {
   "cell_type": "code",
   "execution_count": 9,
   "id": "56122891-49f3-412d-b8c8-3fabccd6adb2",
   "metadata": {
    "scrolled": true
   },
   "outputs": [
    {
     "name": "stdout",
     "output_type": "stream",
     "text": [
      "2025-09-21 02:26:29,084 INFO sqlalchemy.engine.Engine BEGIN (implicit)\n",
      "2025-09-21 02:26:29,086 INFO sqlalchemy.engine.Engine PRAGMA main.table_info(\"person\")\n",
      "2025-09-21 02:26:29,087 INFO sqlalchemy.engine.Engine [raw sql] ()\n",
      "2025-09-21 02:26:29,089 INFO sqlalchemy.engine.Engine PRAGMA temp.table_info(\"person\")\n",
      "2025-09-21 02:26:29,089 INFO sqlalchemy.engine.Engine [raw sql] ()\n",
      "2025-09-21 02:26:29,091 INFO sqlalchemy.engine.Engine \n",
      "CREATE TABLE person (\n",
      "\tid INTEGER NOT NULL, \n",
      "\tname VARCHAR NOT NULL, \n",
      "\tage INTEGER NOT NULL, \n",
      "\tPRIMARY KEY (id)\n",
      ")\n",
      "\n",
      "\n",
      "2025-09-21 02:26:29,091 INFO sqlalchemy.engine.Engine [no key 0.00055s] ()\n",
      "2025-09-21 02:26:29,094 INFO sqlalchemy.engine.Engine COMMIT\n"
     ]
    }
   ],
   "source": [
    "person = Table(\n",
    "    \"person\",\n",
    "    meta,\n",
    "    Column(\"id\", Integer, primary_key=True),\n",
    "    Column(\"name\", String, nullable=False),\n",
    "    Column(\"age\", Integer, nullable=False)\n",
    ")\n",
    "\n",
    "meta.create_all(engine)"
   ]
  },
  {
   "cell_type": "markdown",
   "id": "678e3eb6-3d5c-4b9c-a313-b25d6412b0c2",
   "metadata": {},
   "source": [
    "#### Record Insertion"
   ]
  },
  {
   "cell_type": "code",
   "execution_count": 10,
   "id": "95fd452b-ca23-450a-8d53-25c909205d72",
   "metadata": {},
   "outputs": [
    {
     "name": "stdout",
     "output_type": "stream",
     "text": [
      "2025-09-21 02:26:29,104 INFO sqlalchemy.engine.Engine BEGIN (implicit)\n",
      "2025-09-21 02:26:29,106 INFO sqlalchemy.engine.Engine INSERT INTO person (name, age) VALUES (?, ?)\n",
      "2025-09-21 02:26:29,107 INFO sqlalchemy.engine.Engine [generated in 0.00291s] ('Mike', 30)\n",
      "2025-09-21 02:26:29,108 INFO sqlalchemy.engine.Engine COMMIT\n"
     ]
    }
   ],
   "source": [
    "insert_statement = person.insert().values(name=\"Mike\", age=30)\n",
    "result = conn.execute(insert_statement)\n",
    "conn.commit()"
   ]
  },
  {
   "cell_type": "code",
   "execution_count": 11,
   "id": "4425729a-a522-49d9-a9f4-2f1d32b22e51",
   "metadata": {},
   "outputs": [
    {
     "name": "stdout",
     "output_type": "stream",
     "text": [
      "2025-09-21 02:26:29,118 INFO sqlalchemy.engine.Engine BEGIN (implicit)\n",
      "2025-09-21 02:26:29,118 INFO sqlalchemy.engine.Engine INSERT INTO person (name, age) VALUES (?, ?)\n",
      "2025-09-21 02:26:29,118 INFO sqlalchemy.engine.Engine [cached since 0.01496s ago] ('Tanvi', 24)\n",
      "2025-09-21 02:26:29,120 INFO sqlalchemy.engine.Engine COMMIT\n"
     ]
    }
   ],
   "source": [
    "from sqlalchemy import insert\n",
    "insert_statement = insert(person).values(name=\"Tanvi\", age=24)\n",
    "result = conn.execute(insert_statement)\n",
    "conn.commit()"
   ]
  },
  {
   "cell_type": "markdown",
   "id": "5d9a7e01-9d0d-4331-a94f-bf4d6dcad43b",
   "metadata": {},
   "source": [
    "#### Record Selections"
   ]
  },
  {
   "cell_type": "code",
   "execution_count": 12,
   "id": "42d57e0c-219d-4621-9049-25fb01d36d9a",
   "metadata": {},
   "outputs": [
    {
     "name": "stdout",
     "output_type": "stream",
     "text": [
      "2025-09-21 02:26:29,130 INFO sqlalchemy.engine.Engine BEGIN (implicit)\n",
      "2025-09-21 02:26:29,130 INFO sqlalchemy.engine.Engine SELECT person.id, person.name, person.age \n",
      "FROM person \n",
      "WHERE person.age > ?\n",
      "2025-09-21 02:26:29,130 INFO sqlalchemy.engine.Engine [generated in 0.00126s] (20,)\n",
      "(1, 'Mike', 30)\n",
      "(2, 'Tanvi', 24)\n"
     ]
    }
   ],
   "source": [
    "select_statement = person.select().where(person.c.age > 20)\n",
    "result = conn.execute(select_statement)\n",
    "\n",
    "for record in result:\n",
    "    print(record)"
   ]
  },
  {
   "cell_type": "markdown",
   "id": "7aaffe33-7a5c-455f-bdd9-ba905b686a9f",
   "metadata": {},
   "source": [
    "#### Updating Records"
   ]
  },
  {
   "cell_type": "code",
   "execution_count": 13,
   "id": "d3baa6bf-183b-406a-9a62-a2de0a3684e4",
   "metadata": {},
   "outputs": [
    {
     "name": "stdout",
     "output_type": "stream",
     "text": [
      "2025-09-21 02:26:29,142 INFO sqlalchemy.engine.Engine UPDATE person SET age=? WHERE person.name = ?\n",
      "2025-09-21 02:26:29,142 INFO sqlalchemy.engine.Engine [generated in 0.00124s] (50, 'Mike')\n",
      "2025-09-21 02:26:29,142 INFO sqlalchemy.engine.Engine COMMIT\n",
      "2025-09-21 02:26:29,148 INFO sqlalchemy.engine.Engine BEGIN (implicit)\n",
      "2025-09-21 02:26:29,149 INFO sqlalchemy.engine.Engine SELECT person.id, person.name, person.age \n",
      "FROM person\n",
      "2025-09-21 02:26:29,149 INFO sqlalchemy.engine.Engine [generated in 0.00141s] ()\n",
      "(1, 'Mike', 50)\n",
      "(2, 'Tanvi', 24)\n"
     ]
    }
   ],
   "source": [
    "update_statement = person.update().where(person.c.name == \"Mike\").values(age=50)\n",
    "conn.execute(update_statement)\n",
    "conn.commit()\n",
    "\n",
    "result = conn.execute(person.select())\n",
    "for record in result:\n",
    "    print(record)"
   ]
  },
  {
   "cell_type": "markdown",
   "id": "850c5aa0-3f1b-43e4-9e15-bc02194e2fcd",
   "metadata": {},
   "source": [
    "#### Record Deletion"
   ]
  },
  {
   "cell_type": "code",
   "execution_count": 14,
   "id": "488604b1-8d86-4569-afec-dcf0708be304",
   "metadata": {},
   "outputs": [
    {
     "name": "stdout",
     "output_type": "stream",
     "text": [
      "2025-09-21 02:26:29,157 INFO sqlalchemy.engine.Engine DELETE FROM person WHERE person.name = ?\n",
      "2025-09-21 02:26:29,157 INFO sqlalchemy.engine.Engine [generated in 0.00135s] ('Mike',)\n",
      "2025-09-21 02:26:29,161 INFO sqlalchemy.engine.Engine COMMIT\n",
      "2025-09-21 02:26:29,164 INFO sqlalchemy.engine.Engine BEGIN (implicit)\n",
      "2025-09-21 02:26:29,165 INFO sqlalchemy.engine.Engine SELECT person.id, person.name, person.age \n",
      "FROM person\n",
      "2025-09-21 02:26:29,166 INFO sqlalchemy.engine.Engine [cached since 0.01813s ago] ()\n",
      "(2, 'Tanvi', 24)\n"
     ]
    }
   ],
   "source": [
    "delete_statement = person.delete().where(person.c.name == \"Mike\")\n",
    "conn.execute(delete_statement)\n",
    "conn.commit()\n",
    "\n",
    "result = conn.execute(person.select())\n",
    "for record in result:\n",
    "    print(record)"
   ]
  },
  {
   "cell_type": "markdown",
   "id": "7a49a424-7cf9-4eb5-9ec0-9dd241bb6e3c",
   "metadata": {},
   "source": [
    "#### Create A Relation using ForeignKey"
   ]
  },
  {
   "cell_type": "code",
   "execution_count": 15,
   "id": "8ba97c0d-124f-4c11-aa11-42af61f180ca",
   "metadata": {
    "scrolled": true
   },
   "outputs": [
    {
     "name": "stdout",
     "output_type": "stream",
     "text": [
      "2025-09-21 02:26:29,177 INFO sqlalchemy.engine.Engine BEGIN (implicit)\n",
      "2025-09-21 02:26:29,178 INFO sqlalchemy.engine.Engine PRAGMA main.table_info(\"person\")\n",
      "2025-09-21 02:26:29,179 INFO sqlalchemy.engine.Engine [raw sql] ()\n",
      "2025-09-21 02:26:29,180 INFO sqlalchemy.engine.Engine PRAGMA main.table_info(\"things\")\n",
      "2025-09-21 02:26:29,181 INFO sqlalchemy.engine.Engine [raw sql] ()\n",
      "2025-09-21 02:26:29,182 INFO sqlalchemy.engine.Engine COMMIT\n"
     ]
    }
   ],
   "source": [
    "from sqlalchemy import ForeignKey, Float\n",
    "\n",
    "things = Table(\n",
    "    \"things\",\n",
    "    meta,\n",
    "    Column(\"id\", Integer, primary_key=True),\n",
    "    Column(\"description\", String, nullable=False),\n",
    "    Column(\"value\", Float, nullable=False),\n",
    "    Column(\"owner\", Integer, ForeignKey(\"person.id\"))\n",
    ")\n",
    "\n",
    "meta.create_all(bind=engine)"
   ]
  },
  {
   "cell_type": "code",
   "execution_count": 16,
   "id": "9b69ae6c-0d97-4a38-8e23-3fd7130dd42b",
   "metadata": {},
   "outputs": [
    {
     "name": "stdout",
     "output_type": "stream",
     "text": [
      "2025-09-21 02:26:29,190 INFO sqlalchemy.engine.Engine INSERT INTO person (name, age) VALUES (?, ?), (?, ?), (?, ?), (?, ?), (?, ?), (?, ?)\n",
      "2025-09-21 02:26:29,191 INFO sqlalchemy.engine.Engine [no key 0.00108s] ('Mike', 30, 'Randy', 42, 'Jhon', 28, 'Steve', 32, 'Ross', 24, 'Rachel', 22)\n",
      "2025-09-21 02:26:29,192 INFO sqlalchemy.engine.Engine COMMIT\n"
     ]
    }
   ],
   "source": [
    "insert_statement = person.insert().values([\n",
    "    {\"name\":\"Mike\", \"age\":30},\n",
    "    {\"name\":\"Randy\", \"age\":42},\n",
    "    {\"name\":\"Jhon\", \"age\":28},\n",
    "    {\"name\":\"Steve\", \"age\":32},\n",
    "    {\"name\":\"Ross\", \"age\":24},\n",
    "    {\"name\":\"Rachel\", \"age\":22},\n",
    "])\n",
    "conn.execute(insert_statement)\n",
    "conn.commit()"
   ]
  },
  {
   "cell_type": "code",
   "execution_count": 17,
   "id": "f4e790ea-33e9-4b21-b82e-318a07e4cf7e",
   "metadata": {},
   "outputs": [
    {
     "name": "stdout",
     "output_type": "stream",
     "text": [
      "2025-09-21 02:26:29,203 INFO sqlalchemy.engine.Engine BEGIN (implicit)\n",
      "2025-09-21 02:26:29,203 INFO sqlalchemy.engine.Engine INSERT INTO things (description, value, owner) VALUES (?, ?, ?), (?, ?, ?), (?, ?, ?), (?, ?, ?), (?, ?, ?), (?, ?, ?)\n",
      "2025-09-21 02:26:29,203 INFO sqlalchemy.engine.Engine [no key 0.00153s] ('Laptop', 800.5, 2, 'Mouse', 10.99, 2, 'KeyBoard', 20.99, 2, 'Speaker', 50.0, 3, 'Monitor', 40.3, 4, 'Mobile', 500.5, 5)\n",
      "2025-09-21 02:26:29,206 INFO sqlalchemy.engine.Engine COMMIT\n"
     ]
    }
   ],
   "source": [
    "insert_statement = things.insert().values([\n",
    "    {\"owner\":2, \"description\":\"Laptop\", \"value\":800.50},\n",
    "    {\"owner\":2, \"description\":\"Mouse\", \"value\":10.99},\n",
    "    {\"owner\":2, \"description\":\"KeyBoard\", \"value\":20.99},\n",
    "    {\"owner\":3, \"description\":\"Speaker\", \"value\":50.00},\n",
    "    {\"owner\":4, \"description\":\"Monitor\", \"value\":40.30},\n",
    "    {\"owner\":5, \"description\":\"Mobile\", \"value\":500.50},\n",
    "])\n",
    "\n",
    "conn.execute(insert_statement)\n",
    "conn.commit()"
   ]
  },
  {
   "cell_type": "markdown",
   "id": "2046adac-c18e-46ca-a717-3a729a344c91",
   "metadata": {},
   "source": [
    "####  Join Statements"
   ]
  },
  {
   "cell_type": "code",
   "execution_count": 18,
   "id": "7b19ff35-516e-41c0-ab86-71578fc9cf6c",
   "metadata": {},
   "outputs": [
    {
     "name": "stdout",
     "output_type": "stream",
     "text": [
      "2025-09-21 02:26:29,235 INFO sqlalchemy.engine.Engine BEGIN (implicit)\n",
      "2025-09-21 02:26:29,236 INFO sqlalchemy.engine.Engine SELECT person.name, things.description \n",
      "FROM person JOIN things ON person.id = things.owner\n",
      "2025-09-21 02:26:29,237 INFO sqlalchemy.engine.Engine [generated in 0.00153s] ()\n",
      "('Tanvi', 'Laptop')\n",
      "('Tanvi', 'Mouse')\n",
      "('Tanvi', 'KeyBoard')\n",
      "('Mike', 'Speaker')\n",
      "('Randy', 'Monitor')\n",
      "('Jhon', 'Mobile')\n",
      "('Tanvi', 'Laptop')\n",
      "('Tanvi', 'Mouse')\n",
      "('Tanvi', 'KeyBoard')\n",
      "('Mike', 'Speaker')\n",
      "('Randy', 'Monitor')\n",
      "('Jhon', 'Mobile')\n"
     ]
    }
   ],
   "source": [
    "join_statement = person.join(things, person.c.id == things.c.owner)\n",
    "select_statement = person.select().with_only_columns(person.c.name, things.c.description).select_from(join_statement)\n",
    "result = conn.execute(select_statement)\n",
    "\n",
    "for record in result:\n",
    "    print(record)"
   ]
  },
  {
   "cell_type": "markdown",
   "id": "1f0a5d89-f7ce-4ec9-91b7-865e7a7877de",
   "metadata": {},
   "source": [
    "#### Group-BY Statements"
   ]
  },
  {
   "cell_type": "code",
   "execution_count": 19,
   "id": "4f871eaf-d0ea-40b9-b382-82f24fa6952f",
   "metadata": {},
   "outputs": [
    {
     "name": "stdout",
     "output_type": "stream",
     "text": [
      "2025-09-21 02:26:29,246 INFO sqlalchemy.engine.Engine SELECT things.owner, sum(things.value) AS sum_1 \n",
      "FROM things GROUP BY things.owner\n",
      "2025-09-21 02:26:29,247 INFO sqlalchemy.engine.Engine [generated in 0.00088s] ()\n",
      "(2, 864.46)\n",
      "(3, 100)\n",
      "(4, 80.6)\n",
      "(5, 1001.0)\n"
     ]
    }
   ],
   "source": [
    "from sqlalchemy import func\n",
    "group_by_statement = things.select().with_only_columns(things.c.owner, func.sum(things.c.value)).group_by(things.c.owner)\n",
    "\n",
    "result = conn.execute(group_by_statement)\n",
    "for record in result:\n",
    "    print(record)"
   ]
  },
  {
   "cell_type": "markdown",
   "id": "ff5603b3-1199-4c20-acb0-d4bec9775d05",
   "metadata": {},
   "source": [
    "# SQLAlchemy ORM"
   ]
  },
  {
   "cell_type": "code",
   "execution_count": 20,
   "id": "15cf5670-b6b8-4a5b-b353-f074714b907e",
   "metadata": {},
   "outputs": [],
   "source": [
    "from sqlalchemy import Column, String, Integer, ForeignKey, create_engine, func\n",
    "from sqlalchemy.orm import sessionmaker, declarative_base, relationship"
   ]
  },
  {
   "cell_type": "markdown",
   "id": "f9b834a9-6741-4013-9da4-ed181636cd6b",
   "metadata": {},
   "source": [
    "### Engine creation and connection establishment"
   ]
  },
  {
   "cell_type": "code",
   "execution_count": 21,
   "id": "47befd81-02d1-4c16-beef-dfd5de49562b",
   "metadata": {},
   "outputs": [],
   "source": [
    "DATABASE_URL = \"sqlite:///CRUDOperations.db\"\n",
    "engine = create_engine(DATABASE_URL, echo=True)"
   ]
  },
  {
   "cell_type": "markdown",
   "id": "b36af570-73d7-4268-bdbc-4c318811721b",
   "metadata": {},
   "source": [
    "### Table Creation"
   ]
  },
  {
   "cell_type": "code",
   "execution_count": 22,
   "id": "606c7b8a-ff28-4d86-a296-5b368df97165",
   "metadata": {},
   "outputs": [],
   "source": [
    "Base = declarative_base()\n",
    "\n",
    "class User(Base):\n",
    "    __tablename__ = \"user\"\n",
    "    user_id: int = Column(Integer, primary_key=True)\n",
    "    name: str = Column(String, nullable=False)\n",
    "    email: str = Column(String, nullable=False)\n",
    "\n",
    "    blogs = relationship(\"Blog\", back_populates=\"author\")\n",
    "\n",
    "class Blog(Base):\n",
    "    __tablename__ = \"blog\"\n",
    "    blog_id: int = Column(Integer, primary_key=True)\n",
    "    title: str = Column(String, nullable=False)\n",
    "    description: str = Column(String, nullable=False)\n",
    "    author_id: int = Column(Integer, ForeignKey(\"user.user_id\"))\n",
    "\n",
    "    author = relationship(\"User\", back_populates=\"blogs\")"
   ]
  },
  {
   "cell_type": "code",
   "execution_count": 23,
   "id": "53d85785-9879-4143-8d33-2c10b93bccf3",
   "metadata": {
    "scrolled": true
   },
   "outputs": [
    {
     "name": "stdout",
     "output_type": "stream",
     "text": [
      "2025-09-21 02:26:29,413 INFO sqlalchemy.engine.Engine BEGIN (implicit)\n",
      "2025-09-21 02:26:29,414 INFO sqlalchemy.engine.Engine PRAGMA main.table_info(\"user\")\n",
      "2025-09-21 02:26:29,414 INFO sqlalchemy.engine.Engine [raw sql] ()\n",
      "2025-09-21 02:26:29,415 INFO sqlalchemy.engine.Engine PRAGMA main.table_info(\"blog\")\n",
      "2025-09-21 02:26:29,416 INFO sqlalchemy.engine.Engine [raw sql] ()\n",
      "2025-09-21 02:26:29,417 INFO sqlalchemy.engine.Engine COMMIT\n"
     ]
    }
   ],
   "source": [
    "Base.metadata.create_all(engine)"
   ]
  },
  {
   "cell_type": "markdown",
   "id": "e3b7019b-da83-4307-913d-d0c19de8138f",
   "metadata": {},
   "source": [
    "### Session creation and accessing the data"
   ]
  },
  {
   "cell_type": "code",
   "execution_count": 24,
   "id": "3cecc1dc-adef-4d05-96f2-f3e32cc81263",
   "metadata": {},
   "outputs": [],
   "source": [
    "Session = sessionmaker(bind=engine)\n",
    "session = Session()"
   ]
  },
  {
   "cell_type": "code",
   "execution_count": 25,
   "id": "23a7f11e-a200-4381-bff4-a95dc8050b1e",
   "metadata": {},
   "outputs": [
    {
     "name": "stdout",
     "output_type": "stream",
     "text": [
      "2025-09-21 02:26:29,434 INFO sqlalchemy.engine.Engine BEGIN (implicit)\n",
      "2025-09-21 02:26:29,436 INFO sqlalchemy.engine.Engine INSERT INTO user (name, email) VALUES (?, ?)\n",
      "2025-09-21 02:26:29,436 INFO sqlalchemy.engine.Engine [generated in 0.00072s] ('Rashwanth', 'rashwanth@gmail.com')\n",
      "2025-09-21 02:26:29,439 INFO sqlalchemy.engine.Engine COMMIT\n"
     ]
    }
   ],
   "source": [
    "new_user = User(name=\"Rashwanth\", email=\"rashwanth@gmail.com\")\n",
    "session.add(new_user)\n",
    "session.commit()"
   ]
  },
  {
   "cell_type": "markdown",
   "id": "06d1aacc-b3b5-44fc-a7ef-b9b13d366929",
   "metadata": {},
   "source": [
    "### Selecting data"
   ]
  },
  {
   "cell_type": "code",
   "execution_count": 26,
   "id": "4db39d62-3924-47d2-8cf5-b1d349e8ffc7",
   "metadata": {},
   "outputs": [
    {
     "name": "stdout",
     "output_type": "stream",
     "text": [
      "2025-09-21 02:26:29,448 INFO sqlalchemy.engine.Engine BEGIN (implicit)\n",
      "2025-09-21 02:26:29,450 INFO sqlalchemy.engine.Engine SELECT user.user_id AS user_user_id, user.name AS user_name, user.email AS user_email \n",
      "FROM user \n",
      "WHERE user.name = ?\n",
      " LIMIT ? OFFSET ?\n",
      "2025-09-21 02:26:29,451 INFO sqlalchemy.engine.Engine [generated in 0.00080s] ('Kavin', 1, 0)\n"
     ]
    }
   ],
   "source": [
    "kavin = session.query(User).filter(User.name==\"Kavin\").first()"
   ]
  },
  {
   "cell_type": "code",
   "execution_count": 27,
   "id": "4bf6be4a-ebcc-42f2-96f1-b6554911290f",
   "metadata": {},
   "outputs": [
    {
     "name": "stdout",
     "output_type": "stream",
     "text": [
      "2025-09-21 02:26:29,458 INFO sqlalchemy.engine.Engine SELECT user.user_id AS user_user_id, user.name AS user_name, user.email AS user_email \n",
      "FROM user\n",
      "2025-09-21 02:26:29,459 INFO sqlalchemy.engine.Engine [generated in 0.00065s] ()\n"
     ]
    }
   ],
   "source": [
    "all_record = session.query(User).all()"
   ]
  },
  {
   "cell_type": "code",
   "execution_count": 28,
   "id": "2d74ddbc-e607-4a90-ac74-c2dd1f57e1cd",
   "metadata": {},
   "outputs": [
    {
     "name": "stdout",
     "output_type": "stream",
     "text": [
      "2025-09-21 02:26:29,467 INFO sqlalchemy.engine.Engine INSERT INTO blog (title, description, author_id) VALUES (?, ?, ?)\n",
      "2025-09-21 02:26:29,468 INFO sqlalchemy.engine.Engine [generated in 0.00107s] ('How to successfully lose in life!', 'Buy this one and dig a 6 foot grave and jump into it!', 1)\n",
      "2025-09-21 02:26:29,469 INFO sqlalchemy.engine.Engine COMMIT\n"
     ]
    }
   ],
   "source": [
    "new_blog = Blog(title=\"How to successfully lose in life!\", description=\"Buy this one and dig a 6 foot grave and jump into it!\", author_id=kavin.user_id)\n",
    "session.add(new_blog)\n",
    "session.commit()"
   ]
  },
  {
   "cell_type": "code",
   "execution_count": 29,
   "id": "18d334f1-ba7a-4d72-90b0-6fb8482932fa",
   "metadata": {},
   "outputs": [
    {
     "name": "stdout",
     "output_type": "stream",
     "text": [
      "2025-09-21 02:26:29,477 INFO sqlalchemy.engine.Engine BEGIN (implicit)\n",
      "2025-09-21 02:26:29,478 INFO sqlalchemy.engine.Engine SELECT blog.blog_id AS blog_blog_id, blog.title AS blog_title, blog.description AS blog_description, blog.author_id AS blog_author_id \n",
      "FROM blog\n",
      " LIMIT ? OFFSET ?\n",
      "2025-09-21 02:26:29,479 INFO sqlalchemy.engine.Engine [generated in 0.00048s] (1, 0)\n",
      "2025-09-21 02:26:29,481 INFO sqlalchemy.engine.Engine SELECT user.user_id AS user_user_id, user.name AS user_name, user.email AS user_email \n",
      "FROM user \n",
      "WHERE user.user_id = ?\n",
      "2025-09-21 02:26:29,481 INFO sqlalchemy.engine.Engine [generated in 0.00053s] (1,)\n"
     ]
    },
    {
     "data": {
      "text/plain": [
       "'Kavin'"
      ]
     },
     "execution_count": 29,
     "metadata": {},
     "output_type": "execute_result"
    }
   ],
   "source": [
    "session.query(Blog).first().author.name"
   ]
  },
  {
   "cell_type": "markdown",
   "id": "c5408247-90e6-4379-bf4a-3fadd44470c6",
   "metadata": {},
   "source": [
    "### Deleting and Updating Record"
   ]
  },
  {
   "cell_type": "code",
   "execution_count": 30,
   "id": "aa3cbb99-e78b-4680-9712-7ecad74e1bf4",
   "metadata": {},
   "outputs": [
    {
     "name": "stdout",
     "output_type": "stream",
     "text": [
      "2025-09-21 02:26:29,490 INFO sqlalchemy.engine.Engine DELETE FROM user WHERE user.name = ?\n",
      "2025-09-21 02:26:29,491 INFO sqlalchemy.engine.Engine [generated in 0.00090s] ('Rashwanth',)\n",
      "2025-09-21 02:26:29,493 INFO sqlalchemy.engine.Engine COMMIT\n"
     ]
    }
   ],
   "source": [
    "session.query(User).filter(User.name==\"Rashwanth\").delete()\n",
    "session.commit()"
   ]
  },
  {
   "cell_type": "code",
   "execution_count": 31,
   "id": "1558a9f6-c224-4047-9a76-e8b7418c9767",
   "metadata": {},
   "outputs": [
    {
     "name": "stdout",
     "output_type": "stream",
     "text": [
      "2025-09-21 02:26:29,501 INFO sqlalchemy.engine.Engine BEGIN (implicit)\n",
      "2025-09-21 02:26:29,503 INFO sqlalchemy.engine.Engine UPDATE user SET email=? WHERE user.name = ?\n",
      "2025-09-21 02:26:29,504 INFO sqlalchemy.engine.Engine [generated in 0.00084s] ('kavin@gmail.com', 'Kavin')\n",
      "2025-09-21 02:26:29,505 INFO sqlalchemy.engine.Engine COMMIT\n"
     ]
    }
   ],
   "source": [
    "session.query(User).filter(User.name==\"Kavin\").update({\"email\":\"kavin@gmail.com\"})\n",
    "session.commit()"
   ]
  },
  {
   "cell_type": "code",
   "execution_count": 32,
   "id": "0b2e388b-a6c8-4146-811a-4e876623ed01",
   "metadata": {},
   "outputs": [],
   "source": [
    "### Joints"
   ]
  },
  {
   "cell_type": "code",
   "execution_count": 33,
   "id": "2866e267-0588-4b6b-9dbd-d0cd7775cafa",
   "metadata": {},
   "outputs": [
    {
     "name": "stdout",
     "output_type": "stream",
     "text": [
      "2025-09-21 02:26:29,518 INFO sqlalchemy.engine.Engine BEGIN (implicit)\n",
      "2025-09-21 02:26:29,520 INFO sqlalchemy.engine.Engine SELECT user.name AS user_name, count(blog.blog_id) AS \"Total No Blogs\" \n",
      "FROM user JOIN blog ON user.user_id = blog.author_id GROUP BY user.user_id\n",
      "2025-09-21 02:26:29,520 INFO sqlalchemy.engine.Engine [generated in 0.00064s] ()\n"
     ]
    },
    {
     "data": {
      "text/plain": [
       "[('Kavin', 4)]"
      ]
     },
     "execution_count": 33,
     "metadata": {},
     "output_type": "execute_result"
    }
   ],
   "source": [
    "session.query(User.name, func.count(Blog.blog_id).label(\"Total No Blogs\")).join(User.blogs).group_by(User.user_id).all()"
   ]
  },
  {
   "cell_type": "code",
   "execution_count": null,
   "id": "29970710-3fa3-4700-9a66-d7ce9d1956e2",
   "metadata": {},
   "outputs": [],
   "source": []
  }
 ],
 "metadata": {
  "kernelspec": {
   "display_name": ".venv",
   "language": "python",
   "name": "python3"
  },
  "language_info": {
   "codemirror_mode": {
    "name": "ipython",
    "version": 3
   },
   "file_extension": ".py",
   "mimetype": "text/x-python",
   "name": "python",
   "nbconvert_exporter": "python",
   "pygments_lexer": "ipython3",
   "version": "3.12.10"
  }
 },
 "nbformat": 4,
 "nbformat_minor": 5
}
