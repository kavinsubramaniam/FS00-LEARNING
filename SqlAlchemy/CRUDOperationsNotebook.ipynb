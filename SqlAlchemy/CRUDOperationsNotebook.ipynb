{
 "cells": [
  {
   "cell_type": "code",
   "execution_count": 1,
   "id": "15cf5670-b6b8-4a5b-b353-f074714b907e",
   "metadata": {},
   "outputs": [],
   "source": [
    "from sqlalchemy import Column, String, Integer, ForeignKey, create_engine, func\n",
    "from sqlalchemy.orm import sessionmaker, declarative_base, relationship"
   ]
  },
  {
   "cell_type": "markdown",
   "id": "f9b834a9-6741-4013-9da4-ed181636cd6b",
   "metadata": {},
   "source": [
    "### Engine creation and connection establishment"
   ]
  },
  {
   "cell_type": "code",
   "execution_count": 2,
   "id": "47befd81-02d1-4c16-beef-dfd5de49562b",
   "metadata": {},
   "outputs": [],
   "source": [
    "DATABASE_URL = \"sqlite:///CRUDOperations.db\"\n",
    "engine = create_engine(DATABASE_URL, echo=True)\n",
    "# conn = engine.connect()"
   ]
  },
  {
   "cell_type": "markdown",
   "id": "b36af570-73d7-4268-bdbc-4c318811721b",
   "metadata": {},
   "source": [
    "### Table Creation"
   ]
  },
  {
   "cell_type": "code",
   "execution_count": 3,
   "id": "606c7b8a-ff28-4d86-a296-5b368df97165",
   "metadata": {},
   "outputs": [],
   "source": [
    "Base = declarative_base()\n",
    "\n",
    "class User(Base):\n",
    "    __tablename__ = \"user\"\n",
    "    user_id: int = Column(Integer, primary_key=True)\n",
    "    name: str = Column(String, nullable=False)\n",
    "    email: str = Column(String, nullable=False)\n",
    "\n",
    "    blogs = relationship(\"Blog\", back_populates=\"author\")\n",
    "\n",
    "class Blog(Base):\n",
    "    __tablename__ = \"blog\"\n",
    "    blog_id: int = Column(Integer, primary_key=True)\n",
    "    title: str = Column(String, nullable=False)\n",
    "    description: str = Column(String, nullable=False)\n",
    "    author_id: int = Column(Integer, ForeignKey(\"user.user_id\"))\n",
    "\n",
    "    author = relationship(\"User\", back_populates=\"blogs\")"
   ]
  },
  {
   "cell_type": "code",
   "execution_count": 4,
   "id": "53d85785-9879-4143-8d33-2c10b93bccf3",
   "metadata": {
    "scrolled": true
   },
   "outputs": [
    {
     "name": "stdout",
     "output_type": "stream",
     "text": [
      "2025-09-19 17:39:02,412 INFO sqlalchemy.engine.Engine BEGIN (implicit)\n",
      "2025-09-19 17:39:02,414 INFO sqlalchemy.engine.Engine PRAGMA main.table_info(\"user\")\n",
      "2025-09-19 17:39:02,415 INFO sqlalchemy.engine.Engine [raw sql] ()\n",
      "2025-09-19 17:39:02,417 INFO sqlalchemy.engine.Engine PRAGMA main.table_info(\"blog\")\n",
      "2025-09-19 17:39:02,418 INFO sqlalchemy.engine.Engine [raw sql] ()\n",
      "2025-09-19 17:39:02,422 INFO sqlalchemy.engine.Engine COMMIT\n"
     ]
    }
   ],
   "source": [
    "Base.metadata.create_all(engine)"
   ]
  },
  {
   "cell_type": "markdown",
   "id": "e3b7019b-da83-4307-913d-d0c19de8138f",
   "metadata": {},
   "source": [
    "### Session creation and accessing the data"
   ]
  },
  {
   "cell_type": "code",
   "execution_count": 5,
   "id": "3cecc1dc-adef-4d05-96f2-f3e32cc81263",
   "metadata": {},
   "outputs": [],
   "source": [
    "Session = sessionmaker(bind=engine)\n",
    "session = Session()"
   ]
  },
  {
   "cell_type": "code",
   "execution_count": 6,
   "id": "23a7f11e-a200-4381-bff4-a95dc8050b1e",
   "metadata": {},
   "outputs": [],
   "source": [
    "new_user = User(name=\"Rashwanth\", email=\"rashwanth@gmail.com\")\n",
    "session.add(new_user)\n",
    "session.commit()"
   ]
  },
  {
   "cell_type": "markdown",
   "id": "06d1aacc-b3b5-44fc-a7ef-b9b13d366929",
   "metadata": {},
   "source": [
    "### Selecting data"
   ]
  },
  {
   "cell_type": "code",
   "execution_count": 22,
   "id": "4db39d62-3924-47d2-8cf5-b1d349e8ffc7",
   "metadata": {},
   "outputs": [
    {
     "name": "stdout",
     "output_type": "stream",
     "text": [
      "2025-09-19 17:45:50,259 INFO sqlalchemy.engine.Engine SELECT user.user_id AS user_user_id, user.name AS user_name, user.email AS user_email \n",
      "FROM user \n",
      "WHERE user.name = ?\n",
      " LIMIT ? OFFSET ?\n",
      "2025-09-19 17:45:50,261 INFO sqlalchemy.engine.Engine [cached since 210.7s ago] ('Kavin', 1, 0)\n"
     ]
    }
   ],
   "source": [
    "kavin = session.query(User).filter(User.name==\"Kavin\").first()"
   ]
  },
  {
   "cell_type": "code",
   "execution_count": 24,
   "id": "4bf6be4a-ebcc-42f2-96f1-b6554911290f",
   "metadata": {},
   "outputs": [
    {
     "name": "stdout",
     "output_type": "stream",
     "text": [
      "2025-09-19 17:47:01,719 INFO sqlalchemy.engine.Engine SELECT user.user_id AS user_user_id, user.name AS user_name, user.email AS user_email \n",
      "FROM user\n",
      "2025-09-19 17:47:01,722 INFO sqlalchemy.engine.Engine [cached since 475.5s ago] ()\n"
     ]
    }
   ],
   "source": [
    "all_record = session.query(User).all()"
   ]
  },
  {
   "cell_type": "code",
   "execution_count": 26,
   "id": "2d74ddbc-e607-4a90-ac74-c2dd1f57e1cd",
   "metadata": {},
   "outputs": [
    {
     "name": "stdout",
     "output_type": "stream",
     "text": [
      "2025-09-19 17:47:18,879 INFO sqlalchemy.engine.Engine INSERT INTO blog (title, description, author_id) VALUES (?, ?, ?)\n",
      "2025-09-19 17:47:18,880 INFO sqlalchemy.engine.Engine [cached since 489.1s ago] ('How to successfully lose in life!', 'Buy this one and dig a 6 foot grave and jump into it!', 1)\n",
      "2025-09-19 17:47:18,887 INFO sqlalchemy.engine.Engine COMMIT\n"
     ]
    }
   ],
   "source": [
    "new_blog = Blog(title=\"How to successfully lose in life!\", description=\"Buy this one and dig a 6 foot grave and jump into it!\", author_id=kavin.user_id)\n",
    "session.add(new_blog)\n",
    "session.commit()"
   ]
  },
  {
   "cell_type": "code",
   "execution_count": 20,
   "id": "18d334f1-ba7a-4d72-90b0-6fb8482932fa",
   "metadata": {},
   "outputs": [
    {
     "name": "stdout",
     "output_type": "stream",
     "text": [
      "2025-09-19 17:42:28,260 INFO sqlalchemy.engine.Engine BEGIN (implicit)\n",
      "2025-09-19 17:42:28,262 INFO sqlalchemy.engine.Engine SELECT blog.blog_id AS blog_blog_id, blog.title AS blog_title, blog.description AS blog_description, blog.author_id AS blog_author_id \n",
      "FROM blog\n",
      " LIMIT ? OFFSET ?\n",
      "2025-09-19 17:42:28,263 INFO sqlalchemy.engine.Engine [cached since 155.2s ago] (1, 0)\n",
      "2025-09-19 17:42:28,266 INFO sqlalchemy.engine.Engine SELECT user.user_id AS user_user_id, user.name AS user_name, user.email AS user_email \n",
      "FROM user \n",
      "WHERE user.user_id = ?\n",
      "2025-09-19 17:42:28,268 INFO sqlalchemy.engine.Engine [cached since 145.7s ago] (1,)\n"
     ]
    },
    {
     "data": {
      "text/plain": [
       "'Kavin'"
      ]
     },
     "execution_count": 20,
     "metadata": {},
     "output_type": "execute_result"
    }
   ],
   "source": [
    "session.query(Blog).first().author.name"
   ]
  },
  {
   "cell_type": "markdown",
   "id": "c5408247-90e6-4379-bf4a-3fadd44470c6",
   "metadata": {},
   "source": [
    "### Deleting and Updating Record"
   ]
  },
  {
   "cell_type": "code",
   "execution_count": 27,
   "id": "aa3cbb99-e78b-4680-9712-7ecad74e1bf4",
   "metadata": {},
   "outputs": [
    {
     "name": "stdout",
     "output_type": "stream",
     "text": [
      "2025-09-19 17:48:18,996 INFO sqlalchemy.engine.Engine BEGIN (implicit)\n",
      "2025-09-19 17:48:18,999 INFO sqlalchemy.engine.Engine DELETE FROM user WHERE user.name = ?\n",
      "2025-09-19 17:48:19,000 INFO sqlalchemy.engine.Engine [generated in 0.00133s] ('Rashwanth',)\n",
      "2025-09-19 17:48:19,007 INFO sqlalchemy.engine.Engine COMMIT\n"
     ]
    }
   ],
   "source": [
    "session.query(User).filter(User.name==\"Rashwanth\").delete()\n",
    "session.commit()"
   ]
  },
  {
   "cell_type": "code",
   "execution_count": 29,
   "id": "1558a9f6-c224-4047-9a76-e8b7418c9767",
   "metadata": {},
   "outputs": [
    {
     "name": "stdout",
     "output_type": "stream",
     "text": [
      "2025-09-19 17:49:39,288 INFO sqlalchemy.engine.Engine UPDATE user SET email=? WHERE user.name = ?\n",
      "2025-09-19 17:49:39,289 INFO sqlalchemy.engine.Engine [cached since 16.54s ago] ('kavin@gmail.com', 'Kavin')\n",
      "2025-09-19 17:49:39,292 INFO sqlalchemy.engine.Engine COMMIT\n"
     ]
    }
   ],
   "source": [
    "session.query(User).filter(User.name==\"Kavin\").update({\"email\":\"kavin@gmail.com\"})\n",
    "session.commit()"
   ]
  },
  {
   "cell_type": "code",
   "execution_count": null,
   "id": "0b2e388b-a6c8-4146-811a-4e876623ed01",
   "metadata": {},
   "outputs": [],
   "source": [
    "### Joints"
   ]
  },
  {
   "cell_type": "code",
   "execution_count": 36,
   "id": "2866e267-0588-4b6b-9dbd-d0cd7775cafa",
   "metadata": {},
   "outputs": [
    {
     "name": "stdout",
     "output_type": "stream",
     "text": [
      "2025-09-19 17:56:32,197 INFO sqlalchemy.engine.Engine SELECT user.name AS user_name, count(blog.blog_id) AS \"Total No Blogs\" \n",
      "FROM user JOIN blog ON user.user_id = blog.author_id GROUP BY user.user_id\n",
      "2025-09-19 17:56:32,198 INFO sqlalchemy.engine.Engine [generated in 0.00117s] ()\n"
     ]
    },
    {
     "data": {
      "text/plain": [
       "[('Kavin', 3)]"
      ]
     },
     "execution_count": 36,
     "metadata": {},
     "output_type": "execute_result"
    }
   ],
   "source": [
    "session.query(User.name, func.count(Blog.blog_id).label(\"Total No Blogs\")).join(User.blogs).group_by(User.user_id).all()"
   ]
  },
  {
   "cell_type": "code",
   "execution_count": null,
   "id": "29970710-3fa3-4700-9a66-d7ce9d1956e2",
   "metadata": {},
   "outputs": [],
   "source": []
  }
 ],
 "metadata": {
  "kernelspec": {
   "display_name": ".venv",
   "language": "python",
   "name": "python3"
  },
  "language_info": {
   "codemirror_mode": {
    "name": "ipython",
    "version": 3
   },
   "file_extension": ".py",
   "mimetype": "text/x-python",
   "name": "python",
   "nbconvert_exporter": "python",
   "pygments_lexer": "ipython3",
   "version": "3.12.10"
  }
 },
 "nbformat": 4,
 "nbformat_minor": 5
}
